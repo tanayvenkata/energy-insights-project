{
 "cells": [
  {
   "cell_type": "code",
   "execution_count": null,
   "id": "5f5f3841-0707-4d93-b4d8-20bd6b6ad7e7",
   "metadata": {},
   "outputs": [],
   "source": []
  }
 ],
 "metadata": {
  "kernelspec": {
   "display_name": "",
   "name": ""
  },
  "language_info": {
   "name": ""
  }
 },
 "nbformat": 4,
 "nbformat_minor": 5
}
