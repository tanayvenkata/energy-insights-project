{
 "cells": [
  {
   "cell_type": "code",
   "execution_count": null,
   "id": "885f934a-e7b2-432d-b472-9ecff76d338f",
   "metadata": {},
   "outputs": [],
   "source": []
  }
 ],
 "metadata": {
  "kernelspec": {
   "display_name": "",
   "name": ""
  },
  "language_info": {
   "name": ""
  }
 },
 "nbformat": 4,
 "nbformat_minor": 5
}
