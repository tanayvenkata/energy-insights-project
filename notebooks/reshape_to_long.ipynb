{
 "cells": [
  {
   "cell_type": "code",
   "execution_count": 4,
   "id": "b37eb4c0-57b3-4b2f-88a4-8d1fd91e01d7",
   "metadata": {},
   "outputs": [
    {
     "name": "stdout",
     "output_type": "stream",
     "text": [
      "✅ Melted and saved: electricity_gen_fossil.csv\n",
      "❌ Failed on state_total_energy_rankings.csv: No columns to parse from file\n",
      "✅ Melted and saved: net_imports_electricity.csv\n",
      "✅ Melted and saved: natural_gas_exports.csv\n",
      "✅ Melted and saved: world_emissions.csv\n",
      "✅ Melted and saved: total_energy_consumption.csv\n",
      "✅ Melted and saved: state_comparison.csv\n",
      "✅ Melted and saved: natural_gas_imports.csv\n",
      "✅ Melted and saved: electricity_gen_total.csv\n",
      "✅ Melted and saved: annual_petrol_production.csv\n",
      "✅ Melted and saved: electricity_gen_renewables.csv\n",
      "✅ Melted and saved: electricity_gen_nuclear.csv\n",
      "✅ Melted and saved: total_energy_production.csv\n"
     ]
    }
   ],
   "source": [
    "import pandas as pd\n",
    "import os\n",
    "\n",
    "input_folder = \"../data/cleaned/\"\n",
    "output_folder = \"../data/long/\"\n",
    "\n",
    "# Ensure output directory exists\n",
    "os.makedirs(output_folder, exist_ok=True)\n",
    "\n",
    "# Process all CSVs in cleaned folder\n",
    "for filename in os.listdir(input_folder):\n",
    "    if not filename.endswith(\".csv\"):\n",
    "        continue\n",
    "\n",
    "    input_path = os.path.join(input_folder, filename)\n",
    "    output_path = os.path.join(output_folder, filename)\n",
    "\n",
    "    try:\n",
    "        df = pd.read_csv(input_path)\n",
    "\n",
    "        # Identify structure: assume first column is ID, rest are years\n",
    "        id_col = df.columns[0]\n",
    "        year_cols = df.columns[1:]\n",
    "\n",
    "        # Melt from wide to long format\n",
    "        df_long = df.melt(id_vars=id_col, value_vars=year_cols,\n",
    "                          var_name=\"year\", value_name=\"value\")\n",
    "\n",
    "        # Rename ID column to 'country'\n",
    "        df_long = df_long.rename(columns={id_col: \"country\"})\n",
    "\n",
    "        # Ensure correct types\n",
    "        df_long[\"year\"] = pd.to_numeric(df_long[\"year\"], errors=\"coerce\").astype(\"Int64\")\n",
    "        df_long[\"value\"] = pd.to_numeric(df_long[\"value\"], errors=\"coerce\")\n",
    "\n",
    "        # Save to long-format directory\n",
    "        df_long.to_csv(output_path, index=False)\n",
    "        print(f\"✅ Melted and saved: {filename}\")\n",
    "\n",
    "    except Exception as e:\n",
    "        print(f\"❌ Failed on {filename}: {e}\")"
   ]
  }
 ],
 "metadata": {
  "kernelspec": {
   "display_name": "Python 3 (ipykernel)",
   "language": "python",
   "name": "python3"
  },
  "language_info": {
   "codemirror_mode": {
    "name": "ipython",
    "version": 3
   },
   "file_extension": ".py",
   "mimetype": "text/x-python",
   "name": "python",
   "nbconvert_exporter": "python",
   "pygments_lexer": "ipython3",
   "version": "3.10.16"
  }
 },
 "nbformat": 4,
 "nbformat_minor": 5
}
