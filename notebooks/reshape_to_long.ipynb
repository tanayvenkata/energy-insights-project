{
 "cells": [
  {
   "cell_type": "code",
   "execution_count": 4,
   "id": "b37eb4c0-57b3-4b2f-88a4-8d1fd91e01d7",
   "metadata": {},
   "outputs": [],
   "source": [
    "import pandas as pd\n",
    "import os\n",
    "\n",
    "folder_path = \"../data/cleaned/\"\n",
    "output_path = \"../data/long/\"\n",
    "\n",
    "files = [f for f in os.listdir(folder_path) if f.endswith(\".csv\")]"
   ]
  },
  {
   "cell_type": "code",
   "execution_count": 8,
   "id": "da3f4d08-dea2-456a-ae2c-b758fc408912",
   "metadata": {},
   "outputs": [
    {
     "name": "stdout",
     "output_type": "stream",
     "text": [
      "✅ Melted and saved: electricity_gen_fossil.csv\n",
      "✅ Melted and saved: net_imports_electricity.csv\n",
      "✅ Melted and saved: natural_gas_exports.csv\n",
      "✅ Melted and saved: world_emissions.csv\n",
      "✅ Melted and saved: total_energy_consumption.csv\n",
      "✅ Melted and saved: natural_gas_imports.csv\n",
      "✅ Melted and saved: electricity_gen_total.csv\n",
      "✅ Melted and saved: annual_petrol_production.csv\n",
      "✅ Melted and saved: electricity_gen_renewables.csv\n",
      "✅ Melted and saved: electricity_gen_nuclear.csv\n",
      "✅ Melted and saved: total_energy_production.csv\n"
     ]
    }
   ],
   "source": [
    "for filename in files:\n",
    "    path = os.path.join(folder_path, filename)\n",
    "    df = pd.read_csv(path)\n",
    "\n",
    "    # Step 1: Identify columns\n",
    "    id_col = df.columns[0]                # 'Country'\n",
    "    year_cols = df.columns[1:]            # Years\n",
    "\n",
    "    # Step 2: Melt the data (wide → long)\n",
    "    df_long = df.melt(id_vars=id_col, value_vars=year_cols,\n",
    "                      var_name=\"year\", value_name=\"value\")\n",
    "\n",
    "    # Step 3: Rename id_col to 'country' for consistency\n",
    "    df_long = df_long.rename(columns={id_col: \"country\"})\n",
    "\n",
    "    # Step 4: Save to long format\n",
    "    out_path = os.path.join(output_path, filename)\n",
    "    df_long.to_csv(out_path, index=False)\n",
    "\n",
    "    print(f\"✅ Melted and saved: {filename}\")"
   ]
  }
 ],
 "metadata": {
  "kernelspec": {
   "display_name": "Python 3 (ipykernel)",
   "language": "python",
   "name": "python3"
  },
  "language_info": {
   "codemirror_mode": {
    "name": "ipython",
    "version": 3
   },
   "file_extension": ".py",
   "mimetype": "text/x-python",
   "name": "python",
   "nbconvert_exporter": "python",
   "pygments_lexer": "ipython3",
   "version": "3.10.16"
  }
 },
 "nbformat": 4,
 "nbformat_minor": 5
}
