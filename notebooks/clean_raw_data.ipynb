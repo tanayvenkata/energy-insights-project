{
 "cells": [
  {
   "cell_type": "code",
   "execution_count": 8,
   "id": "552f8f14-4647-4a27-9bdc-a295548f4542",
   "metadata": {},
   "outputs": [
    {
     "name": "stdout",
     "output_type": "stream",
     "text": [
      "✅ Cleaned and saved: electricity_gen_fossil.csv\n",
      "✅ Cleaned and saved: state_total_energy_rankings.csv\n",
      "✅ Cleaned and saved: net_imports_electricity.csv\n",
      "✅ Cleaned and saved: natural_gas_exports.csv\n",
      "✅ Cleaned and saved: world_emissions.csv\n",
      "✅ Cleaned and saved: total_energy_consumption.csv\n",
      "✅ Cleaned and saved: state_comparison.csv\n",
      "✅ Cleaned and saved: natural_gas_imports.csv\n",
      "✅ Cleaned and saved: electricity_gen_total.csv\n",
      "✅ Cleaned and saved: annual_petrol_production.csv\n",
      "✅ Cleaned and saved: electricity_gen_renewables.csv\n",
      "✅ Cleaned and saved: electricity_gen_nuclear.csv\n",
      "✅ Cleaned and saved: total_energy_production.csv\n"
     ]
    }
   ],
   "source": [
    "import pandas as pd\n",
    "import os\n",
    "\n",
    "# Dynamic file paths\n",
    "csv_dir = \"../data/raw/\"\n",
    "csv_paths = [os.path.join(csv_dir, f) for f in os.listdir(csv_dir) if f.endswith(\".csv\")]\n",
    "\n",
    "# Loop through each CSV\n",
    "for path in csv_paths:\n",
    "    try:\n",
    "        df = pd.read_csv(path)\n",
    "\n",
    "        # Convert all year columns (skip 'country') to numeric\n",
    "        for col in df.columns[1:]:\n",
    "            df[col] = pd.to_numeric(df[col], errors=\"coerce\")\n",
    "\n",
    "        # Drop rows with missing first or last year\n",
    "        df = df[df[df.columns[1]].notna()]\n",
    "        df = df[df[df.columns[-1]].notna()]\n",
    "\n",
    "        # Define numeric columns again here (now safe)\n",
    "        numeric_cols = df.columns[1:]\n",
    "\n",
    "        # Drop rows where all numeric values are either 0 or NaN\n",
    "        df = df[~df[numeric_cols].apply(lambda row: row.fillna(0).eq(0).all(), axis=1)]\n",
    "\n",
    "        # Save cleaned file\n",
    "        filename = os.path.basename(path)\n",
    "        df.to_csv(f\"../data/cleaned/{filename}\", index=False)\n",
    "\n",
    "        print(f\"✅ Cleaned and saved: {filename}\")\n",
    "\n",
    "    except Exception as e:\n",
    "        print(f\"❌ Failed on {path}: {e}\")"
   ]
  }
 ],
 "metadata": {
  "kernelspec": {
   "display_name": "Python 3 (ipykernel)",
   "language": "python",
   "name": "python3"
  },
  "language_info": {
   "codemirror_mode": {
    "name": "ipython",
    "version": 3
   },
   "file_extension": ".py",
   "mimetype": "text/x-python",
   "name": "python",
   "nbconvert_exporter": "python",
   "pygments_lexer": "ipython3",
   "version": "3.10.16"
  }
 },
 "nbformat": 4,
 "nbformat_minor": 5
}
