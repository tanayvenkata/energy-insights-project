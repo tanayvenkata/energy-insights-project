{
 "cells": [
  {
   "cell_type": "code",
   "execution_count": 7,
   "id": "2c364ae7-3644-4202-8b88-9cdecb25e803",
   "metadata": {},
   "outputs": [
    {
     "name": "stdout",
     "output_type": "stream",
     "text": [
      "✅ Loaded: electricity_gen_fossil\n",
      "✅ Loaded: net_imports_electricity\n",
      "✅ Loaded: natural_gas_exports\n",
      "✅ Loaded: world_emissions\n",
      "✅ Loaded: total_energy_consumption\n",
      "✅ Loaded: natural_gas_imports\n",
      "✅ Loaded: electricity_gen_total\n",
      "✅ Loaded: annual_petrol_production\n",
      "✅ Loaded: electricity_gen_renewables\n",
      "✅ Loaded: electricity_gen_nuclear\n",
      "✅ Loaded: total_energy_production\n"
     ]
    }
   ],
   "source": [
    "import pandas as pd\n",
    "import sqlite3\n",
    "import os\n",
    "\n",
    "# Connect (creates DB if not exists)\n",
    "conn = sqlite3.connect(\"../sql/energy_insights.db\")\n",
    "\n",
    "# Optional: Drop all existing tables to start clean\n",
    "cursor = conn.cursor()\n",
    "cursor.execute(\"SELECT name FROM sqlite_master WHERE type='table';\")\n",
    "for table_name, in cursor.fetchall():\n",
    "    cursor.execute(f\"DROP TABLE IF EXISTS {table_name};\")\n",
    "conn.commit()\n",
    "\n",
    "# Run schema to define tables\n",
    "with open(\"../sql/schema.sql\", \"r\") as f:\n",
    "    conn.executescript(f.read())\n",
    "\n",
    "# Load each cleaned + melted CSV into its matching table\n",
    "long_data_dir = \"../data/long\"\n",
    "for filename in os.listdir(long_data_dir):\n",
    "    if filename.endswith(\".csv\"):\n",
    "        table = filename.replace(\".csv\", \"\")\n",
    "        path = os.path.join(long_data_dir, filename)\n",
    "        df = pd.read_csv(path)\n",
    "        df.to_sql(table, conn, if_exists=\"replace\", index=False)\n",
    "        print(f\"✅ Loaded: {table}\")\n",
    "\n",
    "conn.close()"
   ]
  }
 ],
 "metadata": {
  "kernelspec": {
   "display_name": "Python 3 (ipykernel)",
   "language": "python",
   "name": "python3"
  },
  "language_info": {
   "codemirror_mode": {
    "name": "ipython",
    "version": 3
   },
   "file_extension": ".py",
   "mimetype": "text/x-python",
   "name": "python",
   "nbconvert_exporter": "python",
   "pygments_lexer": "ipython3",
   "version": "3.10.16"
  }
 },
 "nbformat": 4,
 "nbformat_minor": 5
}
