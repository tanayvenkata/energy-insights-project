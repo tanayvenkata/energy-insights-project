{
 "cells": [
  {
   "cell_type": "code",
   "execution_count": 2,
   "id": "2c364ae7-3644-4202-8b88-9cdecb25e803",
   "metadata": {},
   "outputs": [
    {
     "ename": "OperationalError",
     "evalue": "table annual_petrol_production already exists",
     "output_type": "error",
     "traceback": [
      "\u001b[0;31m---------------------------------------------------------------------------\u001b[0m",
      "\u001b[0;31mOperationalError\u001b[0m                          Traceback (most recent call last)",
      "Cell \u001b[0;32mIn[2], line 10\u001b[0m\n\u001b[1;32m      8\u001b[0m \u001b[38;5;66;03m# Run schema to define tables\u001b[39;00m\n\u001b[1;32m      9\u001b[0m \u001b[38;5;28;01mwith\u001b[39;00m \u001b[38;5;28mopen\u001b[39m(\u001b[38;5;124m\"\u001b[39m\u001b[38;5;124m../sql/schema.sql\u001b[39m\u001b[38;5;124m\"\u001b[39m, \u001b[38;5;124m\"\u001b[39m\u001b[38;5;124mr\u001b[39m\u001b[38;5;124m\"\u001b[39m) \u001b[38;5;28;01mas\u001b[39;00m f:\n\u001b[0;32m---> 10\u001b[0m     \u001b[43mconn\u001b[49m\u001b[38;5;241;43m.\u001b[39;49m\u001b[43mexecutescript\u001b[49m\u001b[43m(\u001b[49m\u001b[43mf\u001b[49m\u001b[38;5;241;43m.\u001b[39;49m\u001b[43mread\u001b[49m\u001b[43m(\u001b[49m\u001b[43m)\u001b[49m\u001b[43m)\u001b[49m\n\u001b[1;32m     12\u001b[0m \u001b[38;5;66;03m# Load each cleaned CSV into its matching table\u001b[39;00m\n\u001b[1;32m     13\u001b[0m long_data_dir \u001b[38;5;241m=\u001b[39m \u001b[38;5;124m\"\u001b[39m\u001b[38;5;124m../data/long\u001b[39m\u001b[38;5;124m\"\u001b[39m\n",
      "\u001b[0;31mOperationalError\u001b[0m: table annual_petrol_production already exists"
     ]
    }
   ],
   "source": [
    "import pandas as pd\n",
    "import sqlite3\n",
    "import os\n",
    "\n",
    "# Connect (creates DB if not exists)\n",
    "conn = sqlite3.connect(\"../sql/energy_insights.db\")\n",
    "\n",
    "# Run schema to define tables\n",
    "with open(\"../sql/schema.sql\", \"r\") as f:\n",
    "    conn.executescript(f.read())\n",
    "\n",
    "# Load each cleaned CSV into its matching table\n",
    "long_data_dir = \"../data/long\"\n",
    "for filename in os.listdir(long_data_dir):\n",
    "    if filename.endswith(\".csv\"):\n",
    "        table = filename.replace(\".csv\", \"\")\n",
    "        path = os.path.join(long_data_dir, filename)\n",
    "        df = pd.read_csv(path)\n",
    "        df.to_sql(table, conn, if_exists=\"replace\", index=False)\n",
    "        print(f\"✅ Loaded: {table}\")\n",
    "\n",
    "conn.close()"
   ]
  }
 ],
 "metadata": {
  "kernelspec": {
   "display_name": "Python 3 (ipykernel)",
   "language": "python",
   "name": "python3"
  },
  "language_info": {
   "codemirror_mode": {
    "name": "ipython",
    "version": 3
   },
   "file_extension": ".py",
   "mimetype": "text/x-python",
   "name": "python",
   "nbconvert_exporter": "python",
   "pygments_lexer": "ipython3",
   "version": "3.10.16"
  }
 },
 "nbformat": 4,
 "nbformat_minor": 5
}
